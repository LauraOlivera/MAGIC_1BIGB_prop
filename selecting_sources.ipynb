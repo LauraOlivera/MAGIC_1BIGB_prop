{
 "cells": [
  {
   "cell_type": "markdown",
   "metadata": {},
   "source": [
    "# Selecting sources\n",
    "## Observability study of the 150 sources of the 1BIGB selection of the 2WHSP catalogue with MAGIC."
   ]
  },
  {
   "cell_type": "code",
   "execution_count": 2,
   "metadata": {
    "collapsed": true
   },
   "outputs": [],
   "source": [
    "from astropy.time import Time\n",
    "from astropy.coordinates import SkyCoord, EarthLocation, AltAz\n",
    "from astropy import units as u\n",
    "#import astropy.units as u\n",
    "import numpy as np\n",
    "import numpy.ma as ma\n",
    "import matplotlib.pyplot as plt\n",
    "from matplotlib.pyplot import cm\n",
    "from matplotlib.pyplot import axes\n",
    "import datetime\n",
    "import matplotlib.dates as mdates\n",
    "from matplotlib import rcParams\n",
    "import ephem\n",
    "from datetime import datetime, timedelta, date, time\n",
    "import math\n",
    "import timeit\n",
    "from astropy.coordinates import get_moon\n",
    "from astropy.coordinates import get_sun\n",
    "rcParams['xtick.direction'] = 'out'\n",
    "rcParams['ytick.direction'] = 'out'"
   ]
  },
  {
   "cell_type": "markdown",
   "metadata": {},
   "source": [
    "### In order to rule out some of the 150 sources we obtain their maximum altitude in the year 2018 and remove those that peak below 40 degrees.\n",
    "\n",
    "The proceeding here is the same as the one in the file BIGB_trial_year.ipynb, which has comments"
   ]
  },
  {
   "cell_type": "code",
   "execution_count": 2,
   "metadata": {
    "collapsed": true
   },
   "outputs": [],
   "source": [
    "table  = open('table.txt', 'r')\n",
    "lines=table.readlines()\n",
    "Names=[]\n",
    "for x in lines:  \n",
    "    Names.append(x.split('&')[0])\n",
    "table.close()\n"
   ]
  },
  {
   "cell_type": "code",
   "execution_count": 3,
   "metadata": {
    "collapsed": true
   },
   "outputs": [],
   "source": [
    "RA=np.load('RA.npy')\n",
    "DEC=np.load('DEC.npy')"
   ]
  },
  {
   "cell_type": "code",
   "execution_count": 40,
   "metadata": {
    "collapsed": true
   },
   "outputs": [],
   "source": [
    "# define MAGIC Location\n",
    "MAGIC = EarthLocation(lat=28.76194*u.deg, lon=-17.89*u.deg, height=2200*u.m)\n",
    "utcoffsetSummer = +1*u.hour\n",
    "utcoffsetWinter = 0*u.hour "
   ]
  },
  {
   "cell_type": "code",
   "execution_count": 6,
   "metadata": {
    "collapsed": true
   },
   "outputs": [],
   "source": [
    "midnight = Time('2017-12-31 00:00:00') + utcoffsetWinter\n",
    "delta_midnight = np.linspace(0,525600,17520)*u.min\n",
    "times = midnight + delta_midnight\n",
    "days = np.split(times,365)"
   ]
  },
  {
   "cell_type": "code",
   "execution_count": 7,
   "metadata": {
    "collapsed": true
   },
   "outputs": [],
   "source": [
    "# MAGIC Horizontal Coordinate system\n",
    "altazframe = AltAz(obstime=times, location=MAGIC)\n"
   ]
  },
  {
   "cell_type": "code",
   "execution_count": 8,
   "metadata": {},
   "outputs": [
    {
     "name": "stderr",
     "output_type": "stream",
     "text": [
      "WARNING: Tried to get polar motions for times after IERS data is valid. Defaulting to polar motion from the 50-yr mean for those. This may affect precision at the 10s of arcsec level [astropy.coordinates.builtin_frames.utils]\n"
     ]
    }
   ],
   "source": [
    "# Moon's position in it\n",
    "moonaltazs = get_moon(times).transform_to(altazframe)\n",
    "\n"
   ]
  },
  {
   "cell_type": "code",
   "execution_count": 9,
   "metadata": {
    "collapsed": true
   },
   "outputs": [],
   "source": [
    "# Sun's position in it\n",
    "sunaltazs = get_sun(times).transform_to(altazframe)"
   ]
  },
  {
   "cell_type": "code",
   "execution_count": 10,
   "metadata": {},
   "outputs": [
    {
     "name": "stdout",
     "output_type": "stream",
     "text": [
      "150\n",
      "[<SkyCoord (ICRS): (ra, dec) in deg\n",
      "    ( 2.45708, -43.28056)>, <SkyCoord (ICRS): (ra, dec) in deg\n",
      "    ( 3.37,  9.825)>, <SkyCoord (ICRS): (ra, dec) in deg\n",
      "    ( 3.86625,  35.61083)>, <SkyCoord (ICRS): (ra, dec) in deg\n",
      "    ( 7.36917,  20.8925)>, <SkyCoord (ICRS): (ra, dec) in deg\n",
      "    ( 10.44583, -47.02667)>, <SkyCoord (ICRS): (ra, dec) in deg\n",
      "    ( 14.56958,  17.38694)>, <SkyCoord (ICRS): (ra, dec) in deg\n",
      "    ( 15.71208, -20.03278)>, <SkyCoord (ICRS): (ra, dec) in deg\n",
      "    ( 18.75708, -34.0075)>, <SkyCoord (ICRS): (ra, dec) in deg\n",
      "    ( 21.73833,  33.125)>, <SkyCoord (ICRS): (ra, dec) in deg\n",
      "    ( 25.17, -7.98028)>, <SkyCoord (ICRS): (ra, dec) in deg\n",
      "    ( 30.27542,  0.56667)>, <SkyCoord (ICRS): (ra, dec) in deg\n",
      "    ( 31.05375, -33.56111)>, <SkyCoord (ICRS): (ra, dec) in deg\n",
      "    ( 33.02375, -25.96611)>, <SkyCoord (ICRS): (ra, dec) in deg\n",
      "    ( 33.07, -2.36528)>, <SkyCoord (ICRS): (ra, dec) in deg\n",
      "    ( 34.13333,  23.24722)>, <SkyCoord (ICRS): (ra, dec) in deg\n",
      "    ( 35.20167, -8.71389)>, <SkyCoord (ICRS): (ra, dec) in deg\n",
      "    ( 38.42042,  6.93639)>, <SkyCoord (ICRS): (ra, dec) in deg\n",
      "    ( 38.6275,  80.72694)>, <SkyCoord (ICRS): (ra, dec) in deg\n",
      "    ( 45.26542,  34.68361)>, <SkyCoord (ICRS): (ra, dec) in deg\n",
      "    ( 45.87542,  5.90833)>, <SkyCoord (ICRS): (ra, dec) in deg\n",
      "    ( 46.14125, -0.90111)>, <SkyCoord (ICRS): (ra, dec) in deg\n",
      "    ( 46.43375,  40.58611)>, <SkyCoord (ICRS): (ra, dec) in deg\n",
      "    ( 47.76333, -44.04111)>, <SkyCoord (ICRS): (ra, dec) in deg\n",
      "    ( 48.59958,  6.33222)>, <SkyCoord (ICRS): (ra, dec) in deg\n",
      "    ( 50.03833, -70.75917)>, <SkyCoord (ICRS): (ra, dec) in deg\n",
      "    ( 50.15833,  11.41444)>, <SkyCoord (ICRS): (ra, dec) in deg\n",
      "    ( 50.23458,  4.41333)>, <SkyCoord (ICRS): (ra, dec) in deg\n",
      "    ( 51.69708, -34.07972)>, <SkyCoord (ICRS): (ra, dec) in deg\n",
      "    ( 52.21917, -57.26806)>, <SkyCoord (ICRS): (ra, dec) in deg\n",
      "    ( 54.09875, -3.79389)>, <SkyCoord (ICRS): (ra, dec) in deg\n",
      "    ( 54.63333, -57.08)>, <SkyCoord (ICRS): (ra, dec) in deg\n",
      "    ( 59.73375, -30.91306)>, <SkyCoord (ICRS): (ra, dec) in deg\n",
      "    ( 62.80125, -39.69528)>, <SkyCoord (ICRS): (ra, dec) in deg\n",
      "    ( 63.16, -39.44139)>, <SkyCoord (ICRS): (ra, dec) in deg\n",
      "    ( 67.25042, -32.61139)>, <SkyCoord (ICRS): (ra, dec) in deg\n",
      "    ( 68.82375, -26.35611)>, <SkyCoord (ICRS): (ra, dec) in deg\n",
      "    ( 70.36417,  15.08194)>, <SkyCoord (ICRS): (ra, dec) in deg\n",
      "    ( 70.66917,  61.6775)>, <SkyCoord (ICRS): (ra, dec) in deg\n",
      "    ( 70.86833, -41.86556)>, <SkyCoord (ICRS): (ra, dec) in deg\n",
      "    ( 75.8975, -11.25167)>, <SkyCoord (ICRS): (ra, dec) in deg\n",
      "    ( 76.08125, -9.94222)>, <SkyCoord (ICRS): (ra, dec) in deg\n",
      "    ( 76.50667, -38.34861)>, <SkyCoord (ICRS): (ra, dec) in deg\n",
      "    ( 76.86333, -33.77639)>, <SkyCoord (ICRS): (ra, dec) in deg\n",
      "    ( 84.11167, -25.79667)>, <SkyCoord (ICRS): (ra, dec) in deg\n",
      "    ( 84.18875, -25.97806)>, <SkyCoord (ICRS): (ra, dec) in deg\n",
      "    ( 89.32, -6.285)>, <SkyCoord (ICRS): (ra, dec) in deg\n",
      "    ( 91.80958, -25.31639)>, <SkyCoord (ICRS): (ra, dec) in deg\n",
      "    ( 95.45667, -34.19694)>, <SkyCoord (ICRS): (ra, dec) in deg\n",
      "    ( 96.60917, -17.17944)>, <SkyCoord (ICRS): (ra, dec) in deg\n",
      "    ( 97.5625, -20.21)>, <SkyCoord (ICRS): (ra, dec) in deg\n",
      "    ( 104.88708, -67.73056)>, <SkyCoord (ICRS): (ra, dec) in deg\n",
      "    ( 109.4375, -55.33944)>, <SkyCoord (ICRS): (ra, dec) in deg\n",
      "    ( 112.96958,  28.07583)>, <SkyCoord (ICRS): (ra, dec) in deg\n",
      "    ( 113.37292,  35.26167)>, <SkyCoord (ICRS): (ra, dec) in deg\n",
      "    ( 119.90042,  13.35472)>, <SkyCoord (ICRS): (ra, dec) in deg\n",
      "    ( 120.06458,  56.18528)>, <SkyCoord (ICRS): (ra, dec) in deg\n",
      "    ( 120.39958,  46.64)>, <SkyCoord (ICRS): (ra, dec) in deg\n",
      "    ( 127.27,  17.90417)>, <SkyCoord (ICRS): (ra, dec) in deg\n",
      "    ( 129.3525,  14.97222)>, <SkyCoord (ICRS): (ra, dec) in deg\n",
      "    ( 134.4575,  1.59167)>, <SkyCoord (ICRS): (ra, dec) in deg\n",
      "    ( 137.00917, -9.99361)>, <SkyCoord (ICRS): (ra, dec) in deg\n",
      "    ( 137.47167,  31.10083)>, <SkyCoord (ICRS): (ra, dec) in deg\n",
      "    ( 138.34292,  81.55139)>, <SkyCoord (ICRS): (ra, dec) in deg\n",
      "    ( 139.21625,  52.64111)>, <SkyCoord (ICRS): (ra, dec) in deg\n",
      "    ( 143.16375,  10.70972)>, <SkyCoord (ICRS): (ra, dec) in deg\n",
      "    ( 143.62542, -17.35583)>, <SkyCoord (ICRS): (ra, dec) in deg\n",
      "    ( 148.10042,  75.03694)>, <SkyCoord (ICRS): (ra, dec) in deg\n",
      "    ( 148.78292,  35.85)>, <SkyCoord (ICRS): (ra, dec) in deg\n",
      "    ( 149.1175, -9.95528)>, <SkyCoord (ICRS): (ra, dec) in deg\n",
      "    ( 149.7075,  70.66639)>, <SkyCoord (ICRS): (ra, dec) in deg\n",
      "    ( 155.25125,  16.43167)>, <SkyCoord (ICRS): (ra, dec) in deg\n",
      "    ( 160.76583,  0.90556)>, <SkyCoord (ICRS): (ra, dec) in deg\n",
      "    ( 162.24,  50.1625)>, <SkyCoord (ICRS): (ra, dec) in deg\n",
      "    ( 163.89292, -1.43778)>, <SkyCoord (ICRS): (ra, dec) in deg\n",
      "    ( 169.32292,  0.10917)>, <SkyCoord (ICRS): (ra, dec) in deg\n",
      "    ( 170.825, -32.53833)>, <SkyCoord (ICRS): (ra, dec) in deg\n",
      "    ( 171.54958, -20.62333)>, <SkyCoord (ICRS): (ra, dec) in deg\n",
      "    ( 172.69208, -31.63528)>, <SkyCoord (ICRS): (ra, dec) in deg\n",
      "    ( 172.77167, -9.735)>, <SkyCoord (ICRS): (ra, dec) in deg\n",
      "    ( 173.68625, -17.48361)>, <SkyCoord (ICRS): (ra, dec) in deg\n",
      "    ( 174.48167, -17.17833)>, <SkyCoord (ICRS): (ra, dec) in deg\n",
      "    ( 182.99417,  22.70917)>, <SkyCoord (ICRS): (ra, dec) in deg\n",
      "    ( 183.79542,  7.53444)>, <SkyCoord (ICRS): (ra, dec) in deg\n",
      "    ( 184.01333, -2.71778)>, <SkyCoord (ICRS): (ra, dec) in deg\n",
      "    ( 190.4225,  34.675)>, <SkyCoord (ICRS): (ra, dec) in deg\n",
      "    ( 192.56458,  31.93306)>, <SkyCoord (ICRS): (ra, dec) in deg\n",
      "    ( 193.42167, -39.53306)>, <SkyCoord (ICRS): (ra, dec) in deg\n",
      "    ( 194.7, -4.79583)>, <SkyCoord (ICRS): (ra, dec) in deg\n",
      "    ( 195.44,  40.94)>, <SkyCoord (ICRS): (ra, dec) in deg\n",
      "    ( 196.80542, -3.74194)>, <SkyCoord (ICRS): (ra, dec) in deg\n",
      "    ( 201.42417, -2.46944)>, <SkyCoord (ICRS): (ra, dec) in deg\n",
      "    ( 201.57375,  12.49944)>, <SkyCoord (ICRS): (ra, dec) in deg\n",
      "    ( 202.13958,  11.75556)>, <SkyCoord (ICRS): (ra, dec) in deg\n",
      "    ( 204.05042,  23.33278)>, <SkyCoord (ICRS): (ra, dec) in deg\n",
      "    ( 208.36667,  56.01556)>, <SkyCoord (ICRS): (ra, dec) in deg\n",
      "    ( 211.625, -39.58583)>, <SkyCoord (ICRS): (ra, dec) in deg\n",
      "    ( 218.42792, -73.07722)>, <SkyCoord (ICRS): (ra, dec) in deg\n",
      "    ( 219.60625,  12.07167)>, <SkyCoord (ICRS): (ra, dec) in deg\n",
      "    ( 220.65167, -46.38361)>, <SkyCoord (ICRS): (ra, dec) in deg\n",
      "    ( 223.78417,  19.3375)>, <SkyCoord (ICRS): (ra, dec) in deg\n",
      "    ( 223.93167, -76.01444)>, <SkyCoord (ICRS): (ra, dec) in deg\n",
      "    ( 224.015,  50.80722)>, <SkyCoord (ICRS): (ra, dec) in deg\n",
      "    ( 226.65458, -5.66778)>, <SkyCoord (ICRS): (ra, dec) in deg\n",
      "    ( 227.67125,  33.58444)>, <SkyCoord (ICRS): (ra, dec) in deg\n",
      "    ( 227.90375, -16.89056)>, <SkyCoord (ICRS): (ra, dec) in deg\n",
      "    ( 229.07792, -15.39556)>, <SkyCoord (ICRS): (ra, dec) in deg\n",
      "    ( 229.61083,  7.87278)>, <SkyCoord (ICRS): (ra, dec) in deg\n",
      "    ( 229.69042,  6.23222)>, <SkyCoord (ICRS): (ra, dec) in deg\n",
      "    ( 231.69417, -15.50722)>, <SkyCoord (ICRS): (ra, dec) in deg\n",
      "    ( 232.30625,  38.20472)>, <SkyCoord (ICRS): (ra, dec) in deg\n",
      "    ( 235.5125, -29.2525)>, <SkyCoord (ICRS): (ra, dec) in deg\n",
      "    ( 236.60417, -28.95639)>, <SkyCoord (ICRS): (ra, dec) in deg\n",
      "    ( 237.72167, -8.37944)>, <SkyCoord (ICRS): (ra, dec) in deg\n",
      "    ( 238.63542, -12.22361)>, <SkyCoord (ICRS): (ra, dec) in deg\n",
      "    ( 240.575,  30.8525)>, <SkyCoord (ICRS): (ra, dec) in deg\n",
      "    ( 241.32917,  54.34972)>, <SkyCoord (ICRS): (ra, dec) in deg\n",
      "    ( 241.57667,  13.75889)>, <SkyCoord (ICRS): (ra, dec) in deg\n",
      "    ( 243.36292, -19.14333)>, <SkyCoord (ICRS): (ra, dec) in deg\n",
      "    ( 245.31333, -0.52778)>, <SkyCoord (ICRS): (ra, dec) in deg\n",
      "    ( 245.87708,  8.95667)>, <SkyCoord (ICRS): (ra, dec) in deg\n",
      "    ( 246.69167,  63.01333)>, <SkyCoord (ICRS): (ra, dec) in deg\n",
      "    ( 250.58458,  22.19528)>, <SkyCoord (ICRS): (ra, dec) in deg\n",
      "    ( 251.08333,  45.77889)>, <SkyCoord (ICRS): (ra, dec) in deg\n",
      "    ( 253.82458, -22.67917)>, <SkyCoord (ICRS): (ra, dec) in deg\n",
      "    ( 257.78583,  2.73444)>, <SkyCoord (ICRS): (ra, dec) in deg\n",
      "    ( 266.0825,  18.87167)>, <SkyCoord (ICRS): (ra, dec) in deg\n",
      "    ( 266.76042,  49.63361)>, <SkyCoord (ICRS): (ra, dec) in deg\n",
      "    ( 282.09375,  65.61583)>, <SkyCoord (ICRS): (ra, dec) in deg\n",
      "    ( 282.6,  26.53139)>, <SkyCoord (ICRS): (ra, dec) in deg\n",
      "    ( 284.55583,  43.41417)>, <SkyCoord (ICRS): (ra, dec) in deg\n",
      "    ( 293.55292, -24.32222)>, <SkyCoord (ICRS): (ra, dec) in deg\n",
      "    ( 295.98417,  21.30611)>, <SkyCoord (ICRS): (ra, dec) in deg\n",
      "    ( 300.51708, -57.6125)>, <SkyCoord (ICRS): (ra, dec) in deg\n",
      "    ( 303.00375, -77.20528)>, <SkyCoord (ICRS): (ra, dec) in deg\n",
      "    ( 313.17708,  8.17778)>, <SkyCoord (ICRS): (ra, dec) in deg\n",
      "    ( 326.38875, -4.5775)>, <SkyCoord (ICRS): (ra, dec) in deg\n",
      "    ( 328.05875, -12.09472)>, <SkyCoord (ICRS): (ra, dec) in deg\n",
      "    ( 330.28042, -59.11111)>, <SkyCoord (ICRS): (ra, dec) in deg\n",
      "    ( 330.4825, -17.11667)>, <SkyCoord (ICRS): (ra, dec) in deg\n",
      "    ( 332.62333,  36.36639)>, <SkyCoord (ICRS): (ra, dec) in deg\n",
      "    ( 332.78458, -0.05056)>, <SkyCoord (ICRS): (ra, dec) in deg\n",
      "    ( 338.25458,  13.60028)>, <SkyCoord (ICRS): (ra, dec) in deg\n",
      "    ( 339.10958,  37.12028)>, <SkyCoord (ICRS): (ra, dec) in deg\n",
      "    ( 342.29458, -13.00056)>, <SkyCoord (ICRS): (ra, dec) in deg\n",
      "    ( 342.94792, -32.10333)>, <SkyCoord (ICRS): (ra, dec) in deg\n",
      "    ( 344.05542, -33.06056)>, <SkyCoord (ICRS): (ra, dec) in deg\n",
      "    ( 346.64583, -11.06333)>, <SkyCoord (ICRS): (ra, dec) in deg\n",
      "    ( 350.16583, -63.155)>, <SkyCoord (ICRS): (ra, dec) in deg\n",
      "    ( 352.80375, -3.025)>, <SkyCoord (ICRS): (ra, dec) in deg\n",
      "    ( 358.3375, -14.9825)>]\n"
     ]
    }
   ],
   "source": [
    "BIGB = []\n",
    "for i in range(len(Names)):\n",
    "    BIGB.append(SkyCoord(ra=RA[i]*u.degree, dec=DEC[i]*u.degree, frame='icrs'))\n"
   ]
  },
  {
   "cell_type": "code",
   "execution_count": 76,
   "metadata": {},
   "outputs": [
    {
     "name": "stdout",
     "output_type": "stream",
     "text": [
      "Computational time: \n",
      "911.901444912  s\n",
      "[u'15d06m31.0206s' u'8d32m27.4841s' u'2d01m13.3434s' ..., u'28d30m31.1447s'\n",
      " u'21d55m20.4757s' u'15d19m55.2185s']\n"
     ]
    }
   ],
   "source": [
    "#TAKES FOREVER, NO NEED TO RUN IT AGAIN\n",
    "\n",
    "start = timeit.default_timer()\n",
    "\n",
    "x = range(150)\n",
    "BIGB_altazs = [BIGB[i].transform_to(altazframe) for i in x]\n",
    "stop = timeit.default_timer()\n",
    "print 'Computational time: '\n",
    "print stop - start, ' s'\n",
    "print BIGB_altazs[1].alt"
   ]
  },
  {
   "cell_type": "code",
   "execution_count": 24,
   "metadata": {},
   "outputs": [
    {
     "name": "stdout",
     "output_type": "stream",
     "text": [
      "Computational time: \n",
      "46.8638141155  s\n"
     ]
    }
   ],
   "source": [
    "start = timeit.default_timer()\n",
    "\n",
    "x = range(150)\n",
    "#comprehension\n",
    "max_list = [max(BIGB_altazs[i].alt) for i in x]\n",
    "\n",
    "stop = timeit.default_timer()\n",
    "print 'Computational time: '\n",
    "print stop - start, ' s'"
   ]
  },
  {
   "cell_type": "code",
   "execution_count": 25,
   "metadata": {},
   "outputs": [
    {
     "name": "stdout",
     "output_type": "stream",
     "text": [
      "Computational time: \n",
      "0.000473976135254  s\n"
     ]
    }
   ],
   "source": [
    "start = timeit.default_timer()\n",
    "\n",
    "x = range(150)\n",
    "#comprehension\n",
    "max_list = [max_list[i].value for i in x]\n",
    "\n",
    "stop = timeit.default_timer()\n",
    "print 'Computational time: '\n",
    "print stop - start, ' s'"
   ]
  },
  {
   "cell_type": "markdown",
   "metadata": {},
   "source": [
    "We arrive to a list of the maximum altitudes in the year period and remove those that peak below 40."
   ]
  },
  {
   "cell_type": "code",
   "execution_count": 27,
   "metadata": {
    "collapsed": true
   },
   "outputs": [],
   "source": [
    "for i in range(150):\n",
    "    if max_list[i]<40:\n",
    "        max_list[i]=0"
   ]
  },
  {
   "cell_type": "code",
   "execution_count": 28,
   "metadata": {},
   "outputs": [
    {
     "name": "stdout",
     "output_type": "stream",
     "text": [
      "[  0.          71.16768068  83.05315094  82.23554165   0.          78.72687873\n",
      "  41.30631275   0.          85.54650495  53.35229927  61.89475875   0.           0.\n",
      "  58.95999527  84.57148551  52.6095831   68.25602527   0.          84.00986756\n",
      "  67.21865034  60.4089679   78.11000813   0.          67.63882334   0.\n",
      "  72.71859481  65.71756282   0.           0.          57.50563869   0.           0.\n",
      "   0.           0.           0.           0.          76.35346636\n",
      "  57.05586092   0.          50.01296068  51.32212056   0.           0.           0.\n",
      "   0.          54.9554622    0.           0.          44.04873148\n",
      "  41.01675105   0.           0.          89.27302717  83.54360945\n",
      "  74.54119003  62.63325698  72.17841951  79.08015008  76.14540555\n",
      "  62.75893346  51.17089866  87.73888272   0.          66.20397028\n",
      "  71.866337    43.80182169  43.81890356  83.0038803   51.19667014\n",
      "  48.19094218  77.57836417  62.04871896  68.70314399  59.7039443\n",
      "  61.24829786   0.          40.51774361   0.          51.40512358\n",
      "  43.65688823  43.9608602   83.84834442  68.67247216  58.42089289\n",
      "  84.19110954  86.92951108   0.          56.34542769  77.92561021\n",
      "  57.40054982  58.67569242  73.6452681   72.90222608  84.48092965\n",
      "  62.84130591   0.           0.          73.23477453   0.          80.50579739\n",
      "   0.          68.03004553  55.50260572  85.2488111   44.28269352\n",
      "  45.77958557  69.04794435  67.40742682  45.67156993  80.6214398    0.           0.\n",
      "  52.80656802  48.96392481  87.96140832  64.464082    74.95231052\n",
      "  42.05250773  60.67080914  70.15712767  55.79211579  83.40367922\n",
      "  73.01857978   0.          63.95455622  80.10784122  69.13742544\n",
      "  53.1292109   87.79688104  75.3258549    0.          82.59368692   0.           0.\n",
      "  69.48954937  56.74840603  49.23262048   0.          44.2128321\n",
      "  82.30974571  61.2816389   74.9373439   81.55152177  48.33758202   0.           0.\n",
      "  50.27666578   0.          58.31701133  46.36036234]\n"
     ]
    },
    {
     "data": {
      "text/plain": [
       "107"
      ]
     },
     "execution_count": 28,
     "metadata": {},
     "output_type": "execute_result"
    }
   ],
   "source": [
    "print max_list\n",
    "np.count_nonzero(max_list)"
   ]
  },
  {
   "cell_type": "markdown",
   "metadata": {},
   "source": [
    "Now we can use a list of the 107 indexes of the interesting sources."
   ]
  },
  {
   "cell_type": "code",
   "execution_count": 57,
   "metadata": {},
   "outputs": [
    {
     "name": "stdout",
     "output_type": "stream",
     "text": [
      "[[  1   2   3   5   6   8   9  10  13  14  15  16  18  19  20  21  23  25\n",
      "   26  29  36  37  39  40  45  48  49  52  53  54  55  56  57  58  59  60\n",
      "   61  63  64  65  66  67  68  69  70  71  72  73  74  76  78  79  80  81\n",
      "   82  83  84  85  87  88  89  90  91  92  93  94  97  99 101 102 103 104\n",
      "  105 106 107 108 109 112 113 114 115 116 117 118 119 120 121 122 124 125\n",
      "  126 127 128 129 131 134 135 136 138 139 140 141 142 143 146 148 149]]\n"
     ]
    },
    {
     "data": {
      "text/plain": [
       "True"
      ]
     },
     "execution_count": 57,
     "metadata": {},
     "output_type": "execute_result"
    }
   ],
   "source": [
    "list107 = np.nonzero(max_list)\n",
    "list107=np.asarray(list107)\n",
    "print list107\n",
    "isinstance(list107, np.ndarray)\n"
   ]
  },
  {
   "cell_type": "code",
   "execution_count": 81,
   "metadata": {},
   "outputs": [
    {
     "name": "stdout",
     "output_type": "stream",
     "text": [
      "150\n",
      "[u'15d06m31.0206s' u'8d32m27.4841s' u'2d01m13.3434s' ..., u'28d30m31.1447s'\n",
      " u'21d55m20.4757s' u'15d19m55.2185s']\n",
      "17520\n"
     ]
    },
    {
     "data": {
      "text/plain": [
       "8760"
      ]
     },
     "execution_count": 81,
     "metadata": {},
     "output_type": "execute_result"
    }
   ],
   "source": [
    "x = range(150)\n",
    "BIGB_alt=[BIGB_altazs[i].alt for i in x]\n",
    "print len(BIGB_alt)\n",
    "print BIGB_alt[1]\n",
    "print len(BIGB_alt[1])\n",
    "17520/2"
   ]
  },
  {
   "cell_type": "code",
   "execution_count": 88,
   "metadata": {
    "collapsed": true
   },
   "outputs": [],
   "source": [
    "list107=np.array([1 ,  2  , 3  , 5 ,  6 ,  8 ,  9 , 10 , 13 , 14 , 15 , 16 , 18 , 19 , 20 , 21 , 23 , 25\n",
    ",  26,  29,  36,  37 , 39 , 40  ,45  ,48  ,49 , 52,  53, 54 , 55 , 56 , 57 , 58 , 59,  60,\n",
    "  61,  63,  64,  65,  66,  67 , 68,  69,  70,  71,  72,  73 , 74,  76,  78,  79,  80,  81,\n",
    "  82,  83 , 84 , 85 , 87 , 88,  89,  90,  91,  92 , 93 , 94,  97 , 99, 101, 102, 103, 104,\n",
    " 105, 106, 107 ,108, 109, 112, 113, 114 ,115 ,116 ,117, 118, 119, 120, 121, 122, 124 ,125,\n",
    " 126, 127, 128, 129, 131, 134, 135, 136, 138, 139, 140, 141, 142, 143, 146, 148,149])"
   ]
  },
  {
   "cell_type": "markdown",
   "metadata": {},
   "source": [
    "##  Due to the high computational time required, the files with the aforementioned list and the altitudes of all sources were saved and can be found in the repository. "
   ]
  },
  {
   "cell_type": "code",
   "execution_count": 11,
   "metadata": {
    "collapsed": true
   },
   "outputs": [],
   "source": [
    "BIGB_alt=np.load('BIGB_alt.npy')\n",
    "list107=np.load('list107.npy')"
   ]
  },
  {
   "cell_type": "code",
   "execution_count": 13,
   "metadata": {
    "collapsed": true
   },
   "outputs": [],
   "source": [
    "BIGB_alt107=[BIGB_alt[i] for i in list107]\n"
   ]
  },
  {
   "cell_type": "code",
   "execution_count": 90,
   "metadata": {
    "collapsed": true
   },
   "outputs": [],
   "source": [
    "#np.save('BIGB_altazs.alt',BIGB_alt)\n",
    "#np.save('list107', list107)"
   ]
  },
  {
   "cell_type": "code",
   "execution_count": 14,
   "metadata": {
    "collapsed": true
   },
   "outputs": [],
   "source": [
    "x = range(107)\n",
    "BIGB_alt107=[np.asarray(BIGB_alt107[i]) for i in x]\n",
    "BIGB_alt107=np.asarray(BIGB_alt107)"
   ]
  },
  {
   "cell_type": "markdown",
   "metadata": {},
   "source": [
    "Now we take into account the visibility constraints of the Sun (must be below -18 degrees) and for the Moon we just consider - for now - the times when it is below the horizon. Note that the real number for the observable hours will be higher than this."
   ]
  },
  {
   "cell_type": "code",
   "execution_count": 16,
   "metadata": {
    "collapsed": true
   },
   "outputs": [],
   "source": [
    "year = np.linspace(0,365,365)*u.day\n",
    "BIGB_alt107_mat =np.zeros((17520,107))\n",
    "for i in range(107):\n",
    "    BIGB_alt107_mat[:,i]=BIGB_alt107[i]\n"
   ]
  },
  {
   "cell_type": "code",
   "execution_count": 18,
   "metadata": {
    "collapsed": true
   },
   "outputs": [],
   "source": [
    "for i in range(17520):\n",
    "        if sunaltazs[i].alt>-18*u.deg:\n",
    "                for j in range(107):\n",
    "                    BIGB_alt107_mat[i,j]=0"
   ]
  },
  {
   "cell_type": "code",
   "execution_count": 22,
   "metadata": {
    "collapsed": true
   },
   "outputs": [],
   "source": [
    "for i in range(17520):\n",
    "        if moonaltazs[i].alt>0*u.deg:\n",
    "                for j in range(107):\n",
    "                    BIGB_alt107_mat[i,j]=0"
   ]
  },
  {
   "cell_type": "code",
   "execution_count": 21,
   "metadata": {
    "collapsed": true
   },
   "outputs": [],
   "source": [
    "for i in range(17520):\n",
    "      for j in range(107):\n",
    "            if  BIGB_alt107_mat[i,j]<20:\n",
    "                BIGB_alt107_mat[i,j]=0"
   ]
  },
  {
   "cell_type": "markdown",
   "metadata": {},
   "source": [
    "The angle ranges considered are \n",
    "$[h_1, h_2, h_3, h_4] = [20-28 \\deg, 28-40, 40-55, 55-85]$ accounting from the ground. \n"
   ]
  },
  {
   "cell_type": "code",
   "execution_count": 24,
   "metadata": {
    "collapsed": true
   },
   "outputs": [],
   "source": [
    "h=np.zeros((4,107))\n",
    "for i in range(17520):\n",
    "      for j in range(107):\n",
    "            if  BIGB_alt107_mat[i,j]>20 and BIGB_alt107_mat[i,j]<28:\n",
    "                h[0,j]=h[0,j]+1\n",
    "            elif BIGB_alt107_mat[i,j]>28 and BIGB_alt107_mat[i,j]<40:\n",
    "                h[1,j]=h[1,j]+1\n",
    "            elif BIGB_alt107_mat[i,j]>40 and BIGB_alt107_mat[i,j]<55:\n",
    "                h[2,j]=h[2,j]+1\n",
    "            elif BIGB_alt107_mat[i,j]>55 and BIGB_alt107_mat[i,j]<85:\n",
    "                h[3,j]=h[3,j]+1\n",
    "h=h/2"
   ]
  },
  {
   "cell_type": "markdown",
   "metadata": {},
   "source": [
    "## Now we can store the hours in a (4,107) matrix where each column contains data of one of the 107 sources, and the rows represent the hours in each angle range as described above."
   ]
  },
  {
   "cell_type": "code",
   "execution_count": 3,
   "metadata": {},
   "outputs": [],
   "source": [
    "h=np.load('HOURSMOON.npy')"
   ]
  },
  {
   "cell_type": "code",
   "execution_count": 5,
   "metadata": {},
   "outputs": [
    {
     "name": "stdout",
     "output_type": "stream",
     "text": [
      "[ 158.5  240.   392.5  175.5]\n",
      "966.5\n",
      "[  95.5  136.5  170.5  382.5]\n",
      "785.0\n",
      "[[  81.5   95.5   83.5   84.   113.5   94.    93.    85.5   90.    84.\n",
      "    94.    83.    92.    85.5   88.    96.5   87.    85.5   89.    93.5\n",
      "    86.   158.5   98.    95.    98.5  116.   123.5   93.5  102.5   87.5\n",
      "   144.   120.5   92.    90.    90.5  100.5   94.5  125.    85.5  114.\n",
      "   310.    93.    99.   231.    84.5   87.   118.    85.5   79.5  116.5\n",
      "    91.   106.5  104.    79.5   81.    87.5   90.5   89.5   82.5   97.\n",
      "    82.5   85.5   77.5   77.5   78.5  134.    80.5   81.5  121.5   85.\n",
      "    93.5   98.5   97.5   77.5   78.    98.    96.    88.5   92.5   86.5\n",
      "   132.    82.   108.5   86.    81.5  170.    84.   106.    82.5   85.5\n",
      "   122.5  191.5   87.5  111.    84.    80.5   87.5   91.5  100.5   93.5\n",
      "    86.5   83.5   93.    97.5   94.    87.5  105. ]\n",
      " [ 127.   136.5  128.5  127.   269.5  134.5  157.5  137.5  144.5  130.\n",
      "   164.   132.5  139.5  136.5  141.5  150.   133.   132.5  133.   144.5\n",
      "   126.5  240.   178.   172.   155.5  216.5  279.5  140.5  147.5  131.5\n",
      "   212.   172.   131.   132.   140.5  167.   140.5  187.5  135.5  217.\n",
      "   469.5  143.5  167.   349.5  129.   137.5  169.   141.5  139.   297.5\n",
      "   159.   219.   216.   126.5  122.5  132.5  129.   125.   142.5  140.5\n",
      "   140.5  133.5  121.   121.5  123.5  186.   116.   119.   168.   137.5\n",
      "   128.5  196.5  182.5  122.5  123.   184.   138.   147.5  163.   132.\n",
      "   183.   122.5  219.5  133.5  125.5  237.5  124.5  155.5  130.5  122.\n",
      "   174.   273.   130.5  154.5  119.   119.   133.5  158.5  197.   140.\n",
      "   129.   123.5  137.5  171.   164.5  144.   188.5]\n",
      " [ 168.5  170.5  157.   158.   111.   169.   340.5  206.   229.   164.\n",
      "   333.5  180.   174.   179.   218.5  188.5  180.5  167.   188.5  256.\n",
      "   169.   392.5  304.5  321.5  361.5  198.    99.   163.5  174.5  167.5\n",
      "   279.5  210.5  163.5  165.   197.5  307.   171.5  251.   171.   185.5\n",
      "   362.5  178.5  307.   467.5  165.5  203.   228.5  220.   206.5   68.\n",
      "   312.5  181.   187.5  150.   171.   230.   165.   162.   257.   177.\n",
      "   233.   215.5  156.5  157.   148.   254.   154.   148.   210.5  277.\n",
      "   156.5  180.   206.5  162.   166.   201.5  165.   292.   246.5  156.5\n",
      "   240.5  155.   119.   191.5  159.   392.5  153.   195.5  171.   150.5\n",
      "   206.   457.5  145.5  177.   148.5  159.   242.   265.   182.5  163.5\n",
      "   193.5  155.   170.5  256.   283.5  224.5  233. ]\n",
      " [ 294.5  382.5  356.   346.5    0.   366.5    0.   214.5  167.   374.\n",
      "     0.   285.   400.5  278.   195.   397.   282.   323.5  263.5  134.\n",
      "   344.5  175.5    0.     0.     0.     0.     0.   331.5  393.   324.\n",
      "   295.   370.5  347.   332.   219.5    0.   334.   328.   302.5    0.\n",
      "     0.   386.     0.     0.   334.5  207.5  345.   171.5  195.     0.\n",
      "     0.     0.     0.   359.5  276.   149.   376.5  328.5   96.   369.5\n",
      "   126.5  153.   303.5  298.5  350.5  281.5  293.   323.5  317.5   50.\n",
      "   340.5    0.     0.   254.5  241.5    0.   351.5    0.     0.   292.\n",
      "   275.5  283.     0.   160.5  252.5   94.5  314.   321.   197.5  297.5\n",
      "   299.5    0.   282.   324.5  313.   256.    98.     0.     0.   361.\n",
      "   185.   304.5  365.     0.     0.   143.     0. ]]\n"
     ]
    }
   ],
   "source": [
    "print h[:,21]\n",
    "print sum(h[:,21])\n",
    "print h[:,1]\n",
    "print sum(h[:,1])\n",
    "print h"
   ]
  },
  {
   "cell_type": "markdown",
   "metadata": {},
   "source": [
    "## This table can be better visualized as a histogram where the number of observable hours is depicted for each angle range. Note that the angles start from the groud and not the zenith."
   ]
  },
  {
   "cell_type": "code",
   "execution_count": 6,
   "metadata": {},
   "outputs": [
    {
     "data": {
      "image/png": "[encoded data removed]",
      "text/plain": [
       "<matplotlib.figure.Figure at 0x7fbfe06677d0>"
      ]
     },
     "metadata": {},
     "output_type": "display_data"
    }
   ],
   "source": [
    "\n",
    "#fig, ax = plt.subplots()\n",
    "fig3 = plt.figure(figsize=(107,8))\n",
    "\n",
    "index = np.arange(107)\n",
    "bar_width = 0.2\n",
    "\n",
    "opacity = 0.5\n",
    "\n",
    "\n",
    "rects4 = plt.bar(index - bar_width, h[0,:], bar_width,alpha=opacity, color='r',label='20-28')\n",
    "\n",
    "\n",
    "rects1 = plt.bar(index, h[1,:], bar_width, alpha=opacity, color='b', label='28-40')\n",
    "\n",
    "rects2 = plt.bar(index + bar_width, h[2,:], bar_width,  alpha=opacity,color='g', label='40-55')\n",
    "rects3 = plt.bar(index + 2*bar_width, h[3,:], bar_width, alpha=opacity,  color='y', label='55-85')\n",
    "\n",
    "\n",
    "plt.xlabel('Visible hours')\n",
    "plt.ylabel('BIGB')\n",
    "plt.title(\"Visible hours of the 107 preselected BIGB for each angle interval taking the moon into account\")\n",
    "plt.xticks(range(107))\n",
    "plt.legend(loc=2, prop={'size': 30})\n",
    "#plt.legend(loc=1, prop={'size': 30})\n",
    "\n",
    "#plt.tight_layout()\n",
    "plt.show()"
   ]
  },
  {
   "cell_type": "code",
   "execution_count": 10,
   "metadata": {},
   "outputs": [
    {
     "data": {
      "image/png": "[encoded data removed]",
      "text/plain": [
       "<matplotlib.figure.Figure at 0x7f7ba277a6d0>"
      ]
     },
     "metadata": {},
     "output_type": "display_data"
    }
   ],
   "source": [
    "\n",
    "#fig, ax = plt.subplots()\n",
    "fig5 = plt.figure(figsize=(17,8))\n",
    "\n",
    "index = np.arange(17)\n",
    "bar_width = 0.2\n",
    "\n",
    "opacity = 0.8\n",
    "\n",
    "\n",
    "rects4 = plt.bar(index - bar_width, hMOON[0,0:17], bar_width,alpha=opacity, color='r',label='20-28')\n",
    "\n",
    "\n",
    "rects1 = plt.bar(index, hMOON[1,0:17], bar_width, alpha=opacity, color='b', label='28-40')\n",
    "\n",
    "rects2 = plt.bar(index + bar_width, hMOON[2,0:17], bar_width,  alpha=opacity,color='g', label='40-55')\n",
    "rects3 = plt.bar(index + 2*bar_width, hMOON[3,0:17], bar_width, alpha=opacity,  color='y', label='55-85')\n",
    "\n",
    "\n",
    "plt.xlabel('Visible hours')\n",
    "plt.ylabel('BIGB')\n",
    "plt.title(\"Visible hours of 17 of the 107 preselected BIGB for each angle interval taking the moon into account\")\n",
    "plt.xticks(range(17))\n",
    "plt.legend(loc=2, prop={'size': 15})\n",
    "#plt.legend(loc=1, prop={'size': 30})\n",
    "\n",
    "#plt.tight_layout()\n",
    "plt.show()"
   ]
  },
  {
   "cell_type": "code",
   "execution_count": null,
   "metadata": {
    "collapsed": true
   },
   "outputs": [],
   "source": []
  }
 ],
 "metadata": {
  "kernelspec": {
   "display_name": "Python 2",
   "language": "python",
   "name": "python2"
  },
  "language_info": {
   "codemirror_mode": {
    "name": "ipython",
    "version": 2
   },
   "file_extension": ".py",
   "mimetype": "text/x-python",
   "name": "python",
   "nbconvert_exporter": "python",
   "pygments_lexer": "ipython2",
   "version": "2.7.13"
  }
 },
 "nbformat": 4,
 "nbformat_minor": 2
}
