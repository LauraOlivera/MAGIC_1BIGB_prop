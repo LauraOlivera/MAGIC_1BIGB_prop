{
 "cells": [
  {
   "cell_type": "code",
   "execution_count": 61,
   "metadata": {
    "collapsed": true
   },
   "outputs": [],
   "source": [
    "from astropy.time import Time\n",
    "from astropy.coordinates import SkyCoord, EarthLocation, AltAz\n",
    "from astropy import units as u\n",
    "from astropy.io import ascii\n",
    "#import astropy.units as u\n",
    "import numpy as np\n",
    "import numpy.ma as ma\n",
    "from astropy.table import Table\n",
    "import matplotlib.pyplot as plt\n",
    "from matplotlib.pyplot import cm\n",
    "from matplotlib.pyplot import axes\n",
    "import datetime\n",
    "import matplotlib.dates as mdates\n",
    "from matplotlib import rcParams\n",
    "rcParams['xtick.direction'] = 'out'\n",
    "rcParams['ytick.direction'] = 'out'"
   ]
  },
  {
   "cell_type": "code",
   "execution_count": 11,
   "metadata": {
    "collapsed": true
   },
   "outputs": [],
   "source": [
    "h=np.load('/afs/ifh.de/group/amanda/scratch/lonieto/summer_project/select_sources/HOURSMOON.npy')\n",
    "list107=np.load('/afs/ifh.de/group/amanda/scratch/lonieto/summer_project/select_sources/list107.npy')\n",
    "h1=h[3,:]+h[2,:]\n",
    "h2=h[3,:]+h[2,:]"
   ]
  },
  {
   "cell_type": "code",
   "execution_count": 12,
   "metadata": {
    "collapsed": true
   },
   "outputs": [],
   "source": [
    "I1=np.zeros(107)\n",
    "for i in range(107):\n",
    "    index=np.argmax(h1)\n",
    "    I1[i]=index\n",
    "    h1[index]=0\n",
    "    i=i+1\n",
    "I1=I1.astype(int)"
   ]
  },
  {
   "cell_type": "code",
   "execution_count": 13,
   "metadata": {},
   "outputs": [
    {
     "name": "stdout",
     "output_type": "stream",
     "text": [
      "[ 585.5  581.   579.   574.5  574.5  573.5  568.   567.5  564.5  553.\n",
      "  546.5  541.5  538.   535.5  535.5  535.5  528.   524.5  516.5  516.5\n",
      "  516.   513.5  513.   510.5  509.5  505.5  505.5  504.5  501.5  500.\n",
      "  498.5  497.   497.   495.   491.5  490.5  490.5  487.   473.5  471.5\n",
      "  467.5  467.   465.   463.   462.5  461.5  460.   459.5  457.5  457.\n",
      "  455.5  452.   448.5  448.   447.   447.   438.   427.5  420.5  417.\n",
      "  416.5  415.   413.5  411.5  410.5  407.5  401.5  396.   391.5  390.   379.\n",
      "  378.5  368.5  368.5  367.5  362.5  361.5  359.5  353.   352.   340.5\n",
      "  340.   333.5  327.   321.5  312.5  307.   307.   304.5  292.   283.5\n",
      "  265.   256.   246.5  233.   206.5  201.5  198.   187.5  185.5  182.5\n",
      "  181.   180.   119.   111.    99.    68. ]\n"
     ]
    }
   ],
   "source": [
    "list107MAX1=list107[I1]\n",
    "print h2[I1]"
   ]
  },
  {
   "cell_type": "code",
   "execution_count": 55,
   "metadata": {
    "collapsed": true
   },
   "outputs": [],
   "source": [
    "table  = open('/afs/ifh.de/group/amanda/scratch/lonieto/summer_project/select_sources/table.txt', 'r')\n",
    "lines=table.readlines()\n",
    "Names=[]\n",
    "for x in lines:  \n",
    "    Names.append(x.split('&')[0])\n",
    "table.close()\n",
    "\n",
    "N0 = np.load('/afs/ifh.de/group/amanda/scratch/lonieto/summer_project/select_sources/N0.npy')\n",
    "N0E = np.load('/afs/ifh.de/group/amanda/scratch/lonieto/summer_project/select_sources/N0Error.npy')\n",
    "\n",
    "z=np.load('/afs/ifh.de/group/amanda/scratch/lonieto/summer_project/select_sources/z.npy')\n",
    "RA=np.load('/afs/ifh.de/group/amanda/scratch/lonieto/summer_project/select_sources/RA.npy')\n",
    "DEC=np.load('/afs/ifh.de/group/amanda/scratch/lonieto/summer_project/select_sources/DEC.npy')\n",
    "TS=np.load('/afs/ifh.de/group/amanda/scratch/lonieto/summer_project/select_sources/TS.npy')\n",
    "F=np.load('/afs/ifh.de/group/amanda/scratch/lonieto/summer_project/select_sources/F.npy')\n",
    "G=np.load('/afs/ifh.de/group/amanda/scratch/lonieto/summer_project/select_sources/G.npy')\n",
    "FEP=np.load('/afs/ifh.de/group/amanda/scratch/lonieto/summer_project/select_sources/FErrorP.npy')\n",
    "FEM=np.load('/afs/ifh.de/group/amanda/scratch/lonieto/summer_project/select_sources/FErrorM.npy')\n",
    "GE=np.load('/afs/ifh.de/group/amanda/scratch/lonieto/summer_project/select_sources/GError.npy')\n"
   ]
  },
  {
   "cell_type": "code",
   "execution_count": 56,
   "metadata": {},
   "outputs": [
    {
     "name": "stdout",
     "output_type": "stream",
     "text": [
      "[ 0.83  0.81  1.26  2.63  2.11  1.28  3.42  0.93  0.82  1.18  1.98  1.34\n",
      "  3.19  1.13  1.73  1.17  1.32  1.22  1.08  1.06  1.13  3.26  0.6   3.3\n",
      "  1.12  0.78  1.89  1.02  2.18  1.54  1.52  1.46  0.46  1.5   2.24  1.48\n",
      "  0.72  1.52  2.02  0.98  1.3   1.56  2.56  1.53  2.76  3.34  1.04  0.71\n",
      "  0.81  0.69  1.61  2.15  0.99  0.94  1.39  0.83  2.07  1.84  0.7   1.18\n",
      "  0.74  0.57  1.17  1.18  1.76  1.5   1.84  1.54  2.59  0.75  3.01  1.27\n",
      "  1.23  1.36  1.43  0.54  2.21  1.57  1.62  1.06  1.73  1.19  1.11  1.57\n",
      "  1.28  1.43  0.85  0.66  2.06  1.55  1.35  3.12  1.99  1.75  0.74  1.7\n",
      "  2.51  2.2   2.48  1.42  1.33  0.88  1.15  3.31  0.57  1.32  1.36]\n",
      "[ 0.     0.369  0.19   0.24   0.     0.402  0.     0.177  0.834  0.57\n",
      "  0.652  0.7    0.288  0.     0.404  0.     0.49   0.     0.59   0.225\n",
      "  0.212  0.109  0.     0.089  0.45   0.272  0.46   0.     0.     0.556\n",
      "  0.267  0.278  0.114  0.248  0.     0.     0.     0.     0.361  0.115  0.\n",
      "  0.592  0.     0.     0.62   0.     0.204  0.214  0.364  0.196  0.811  0.\n",
      "  0.47   0.     0.137  0.     0.29   0.     0.298  0.281  0.41   0.     0.511\n",
      "  0.533  0.     0.102  0.451  0.     0.     0.162  0.169  0.326  0.8    0.\n",
      "  0.     0.181  0.     0.     0.586  0.52   0.49   0.069  0.43   0.518\n",
      "  0.46   0.     0.053  0.     0.57   0.     0.     0.121  0.5    0.     0.\n",
      "  0.54   0.43   0.7    0.6    0.     0.169  0.571  0.56   0.     0.38   0.\n",
      "  0.   ]\n"
     ]
    }
   ],
   "source": [
    "RA1=RA[list107MAX1]\n",
    "z1=z[list107MAX1]\n",
    "N01=N0[list107MAX1]\n",
    "DEC1=DEC[list107MAX1]\n",
    "TS1=TS[list107MAX1]\n",
    "F1=F[list107MAX1]\n",
    "G1=G[list107MAX1]\n",
    "FEP1=FEP[list107MAX1]\n",
    "GE1=GE[list107MAX1]\n",
    "FEM1=FEM[list107MAX1]\n",
    "N0E1=N0E[list107MAX1]\n",
    "#NAM = Names[list107MAX1]\n",
    "print F1*(10**10)\n",
    "print z1"
   ]
  },
  {
   "cell_type": "code",
   "execution_count": 57,
   "metadata": {},
   "outputs": [
    {
     "name": "stdout",
     "output_type": "stream",
     "text": [
      "[ 0.2245  0.369   0.19    0.24    0.2245  0.402   0.2245  0.177   0.834\n",
      "  0.57    0.652   0.7     0.288   0.2245  0.404   0.2245  0.49    0.2245\n",
      "  0.59    0.225   0.212   0.109   0.2245  0.089   0.45    0.272   0.46\n",
      "  0.2245  0.2245  0.556   0.267   0.278   0.114   0.248   0.2245  0.2245\n",
      "  0.2245  0.2245  0.361   0.115   0.2245  0.592   0.2245  0.2245  0.62\n",
      "  0.2245  0.204   0.214   0.364   0.196   0.811   0.2245  0.47    0.2245\n",
      "  0.137   0.2245  0.29    0.2245  0.298   0.281   0.41    0.2245  0.511\n",
      "  0.533   0.2245  0.102   0.451   0.2245  0.2245  0.162   0.169   0.326\n",
      "  0.8     0.2245  0.2245  0.181   0.2245  0.2245  0.586   0.52    0.49\n",
      "  0.069   0.43    0.518   0.46    0.2245  0.053   0.2245  0.57    0.2245\n",
      "  0.2245  0.121   0.5     0.2245  0.2245  0.54    0.43    0.7     0.6\n",
      "  0.2245  0.169   0.571   0.56    0.2245  0.38    0.2245  0.2245]\n"
     ]
    }
   ],
   "source": [
    "for i in range(107):\n",
    "    if z1[i]==0.:\n",
    "        z1[i]=np.average(z)\n",
    "print z1"
   ]
  },
  {
   "cell_type": "code",
   "execution_count": 58,
   "metadata": {},
   "outputs": [
    {
     "name": "stdout",
     "output_type": "stream",
     "text": [
      "[' 1BIGB J030544.1+403509          ', ' 1BIGB J080135.8+463824          ', ' 1BIGB J091651.8+523827          ', ' 1BIGB J030103.7+344100          ', ' 1BIGB J080015.4+561107          ', ' 1BIGB J104857.6+500945          ', ' 1BIGB J044240.6+614039$^{(a)}$  ', ' 1BIGB J073329.5+351542          ', ' 1BIGB J095507.9+355100          ', ' 1BIGB J001527.8+353638          ', ' 1BIGB J130145.6+405623          ', ' 1BIGB J124141.4+344029          ', ' 1BIGB J021631.9+231449          ', ' 1BIGB J012657.1+330730          ', ' 1BIGB J135328.0+560056$^{(b)}$  ', ' 1BIGB J223626.2+370713          ', ' 1BIGB J145603.5+504825          ', ' 1BIGB J221029.5+362159          ', ' 1BIGB J152913.5+381216          ', ' 1BIGB J164419.9+454644          ', ' 1BIGB J160519.0+542058          ', ' 1BIGB J044127.4+150454          ', ' 1BIGB J002928.6+205332          ', ' 1BIGB J082904.7+175415          ', ' 1BIGB J121158.6+224233          ', ' 1BIGB J090953.2+310602          ', ' 1BIGB J174702.5+493800          ', ' 1BIGB J005816.6+172312          ', ' 1BIGB J185813.3+432451          ', ' 1BIGB J102100.3+162554          ', ' 1BIGB J133612.1+231958          ', ' 1BIGB J083724.5+145819          ', ' 1BIGB J151041.0+333503          ', ' 1BIGB J073152.6+280432          ', ' 1BIGB J075936.1+132116          ', ' 1BIGB J032037.9+112451          ', ' 1BIGB J125015.4+315559          ', ' 1BIGB J162646.0+630047          ', ' 1BIGB J093239.2+104234$^{(b)}$  ', ' 1BIGB J145508.2+192014          ', ' 1BIGB J095849.8+703959          ', ' 1BIGB J164220.2+221143          ', ' 1BIGB J023340.9+065611          ', ' 1BIGB J001328.8+094929          ', ' 1BIGB J031423.8+061955          ', ' 1BIGB J194356.2+211821$^{(a)}$  ', ' 1BIGB J132617.7+122957          ', ' 1BIGB J223301.0+133601          ', ' 1BIGB J184822.4+653656          ', ' 1BIGB J030330.1+055429          ', ' 1BIGB J132833.4+114520          ', ' 1BIGB J032056.2+042447          ', ' 1BIGB J160218.0+305108          ', ' 1BIGB J174419.7+185218          ', ' 1BIGB J121510.9+073203          ', ' 1BIGB J143825.4+120418          ', ' 1BIGB J160618.4+134532          ', ' 1BIGB J185023.9+263153          ', ' 1BIGB J020106.1+003400          ', ' 1BIGB J085749.8+013530          ', ' 1BIGB J151826.5+075222          ', ' 1BIGB J205242.4+081040          ', ' 1BIGB J030433.9$-$005403$^{(a)}$', ' 1BIGB J162330.4+085724          ', ' 1BIGB J104303.7+005420          ', ' 1BIGB J151845.7+061355          ', ' 1BIGB J111717.5+000633          ', ' 1BIGB J021216.8$-$022155        ', ' 1BIGB J105534.3$-$012616        ', ' 1BIGB J033623.7$-$034738$^{(b)}$', ' 1BIGB J121603.1$-$024304$^{(b)}$', ' 1BIGB J221108.2$-$000302$^{(b)}$', ' 1BIGB J132541.8$-$022809        ', ' 1BIGB J171108.5+024403          ', ' 1BIGB J233112.8$-$030129        ', ' 1BIGB J095224.1+750212$^{(a)}$$^{(b)}$ ', ' 1BIGB J055716.7$-$061706        ', ' 1BIGB J130713.3$-$034430        ', ' 1BIGB J125847.9$-$044744        ', ' 1BIGB J162115.1$-$003140        ', ' 1BIGB J014040.8$-$075849        ', ' 1BIGB J214533.3$-$043438        ', ' 1BIGB J022048.4$-$084250        ', ' 1BIGB J150637.0$-$054004        ', ' 1BIGB J050419.5$-$095631        ', ' 1BIGB J113105.2$-$094405        ', ' 1BIGB J090802.2$-$095936        ', ' 1BIGB J095628.2$-$095719        ', ' 1BIGB J050335.3$-$111506        ', ' 1BIGB J155053.2$-$082245        ', ' 1BIGB J230634.9$-$110347        ', ' 1BIGB J215214.0$-$120540        ', ' 1BIGB J224910.6$-$130002        ', ' 1BIGB J155432.5$-$121324        ', ' 1BIGB J235320.9$-$145856        ', ' 1BIGB J151618.7$-$152344        ', ' 1BIGB J152646.6$-$153025        ', ' 1BIGB J062626.2$-$171045        ', ' 1BIGB J113755.6$-$171041$^{(a)}$$^{(b)}$ ', ' 1BIGB J093430.1$-$172120        ', ' 1BIGB J220155.8$-$170700        ', ' 1BIGB J113444.6$-$172900        ', ' 1BIGB J151136.8$-$165326        ', ' 1BIGB J161327.1$-$190835        ', ' 1BIGB J010250.8$-$200158        ', ' 1BIGB J063014.9$-$201236        ', ' 1BIGB J112611.8$-$203723        ']\n"
     ]
    }
   ],
   "source": [
    "NAM = [Names[i] for i in list107MAX1]\n",
    "print NAM"
   ]
  },
  {
   "cell_type": "markdown",
   "metadata": {},
   "source": [
    "SRC_name & RA & DEC & z & \\Gamma & N0 & TS & Flux(1-100) GeV & # of hours Zenith 5-50"
   ]
  },
  {
   "cell_type": "code",
   "execution_count": 59,
   "metadata": {},
   "outputs": [],
   "source": [
    "t = Table([NAM, RA1, DEC1,z1, G1, GE1, N01, N0E1, TS1, F1, FEP1, FEM1, h2[I1] ], names=('1BIGB source name', 'R.A. (deg)', 'Dec. (deg)', 'z', '$\\Gamma$', '$\\Gamma$_err', 'N0', 'N0_err','TS', ' Flux(1-100) GeV', ' Flux(+err)', ' Flux(-err)', ' # of hours Zenith 5-50'), meta={'name': '1BIGB table'})"
   ]
  },
  {
   "cell_type": "code",
   "execution_count": 60,
   "metadata": {},
   "outputs": [
    {
     "data": {
      "text/html": [
       "&lt;Table length=107&gt;\n",
       "<table id=\"table140330809103120\" class=\"table-striped table-bordered table-condensed\">\n",
       "<thead><tr><th>1BIGB source name</th><th>R.A. (deg)</th><th>Dec. (deg)</th><th>z</th><th>$\\Gamma$</th><th>$\\Gamma$_err</th><th>N0</th><th>N0_err</th><th>TS</th><th>Flux(1-100) GeV</th><th>Flux(+err)</th><th>Flux(-err)</th><th># of hours Zenith 5-50</th></tr></thead>\n",
       "<thead><tr><th>str42</th><th>float64</th><th>float64</th><th>float64</th><th>float64</th><th>float64</th><th>float64</th><th>float64</th><th>float64</th><th>float64</th><th>float64</th><th>float64</th><th>float64</th></tr></thead>\n",
       "<tr><td>1BIGB J030544.1+403509</td><td>46.43375</td><td>40.58611</td><td>0.2245</td><td>1.84</td><td>0.28</td><td>7.1e-14</td><td>5.3e-14</td><td>12.4</td><td>8.3e-11</td><td>1.23e-10</td><td>-6.7e-11</td><td>585.5</td></tr>\n",
       "<tr><td>1BIGB J080135.8+463824</td><td>120.39958</td><td>46.64</td><td>0.369</td><td>2.3</td><td>0.36</td><td>1.06e-13</td><td>5.2e-14</td><td>10.2</td><td>8.1e-11</td><td>8.6e-11</td><td>-4.9e-11</td><td>581.0</td></tr>\n",
       "<tr><td>1BIGB J091651.8+523827</td><td>139.21625</td><td>52.64111</td><td>0.19</td><td>1.79</td><td>0.15</td><td>1.04e-13</td><td>3.4e-14</td><td>54.9</td><td>1.26e-10</td><td>7.7e-11</td><td>-5.4e-11</td><td>579.0</td></tr>\n",
       "<tr><td>1BIGB J030103.7+344100</td><td>45.26542</td><td>34.68361</td><td>0.24</td><td>2.3</td><td>0.15</td><td>3.43e-13</td><td>6.9e-14</td><td>43.1</td><td>2.63e-10</td><td>9.5e-11</td><td>-7.5e-11</td><td>574.5</td></tr>\n",
       "<tr><td>1BIGB J080015.4+561107</td><td>120.06458</td><td>56.18528</td><td>0.2245</td><td>1.96</td><td>0.11</td><td>2.06e-13</td><td>4.2e-14</td><td>74.8</td><td>2.11e-10</td><td>7.7e-11</td><td>-6.1e-11</td><td>574.5</td></tr>\n",
       "<tr><td>1BIGB J104857.6+500945</td><td>162.24</td><td>50.1625</td><td>0.402</td><td>2.26</td><td>0.17</td><td>1.63e-13</td><td>4e-14</td><td>28.0</td><td>1.28e-10</td><td>5.7e-11</td><td>-4.3e-11</td><td>573.5</td></tr>\n",
       "<tr><td>1BIGB J044240.6+614039$^{(a)}$</td><td>70.66917</td><td>61.6775</td><td>0.2245</td><td>1.95</td><td>0.12</td><td>3.3e-13</td><td>9.2e-14</td><td>94.5</td><td>3.42e-10</td><td>1.59e-10</td><td>-1.24e-10</td><td>568.0</td></tr>\n",
       "<tr><td>1BIGB J073329.5+351542</td><td>113.37292</td><td>35.26167</td><td>0.177</td><td>2.59</td><td>0.3</td><td>1.49e-13</td><td>4.8e-14</td><td>11.7</td><td>9.3e-11</td><td>5.9e-11</td><td>-4e-11</td><td>567.5</td></tr>\n",
       "<tr><td>1BIGB J095507.9+355100</td><td>148.78292</td><td>35.85</td><td>0.834</td><td>1.88</td><td>0.25</td><td>7.3e-14</td><td>4e-14</td><td>20.0</td><td>8.2e-11</td><td>9e-11</td><td>-5.3e-11</td><td>564.5</td></tr>\n",
       "<tr><td>1BIGB J001527.8+353638</td><td>3.86625</td><td>35.61083</td><td>0.57</td><td>1.98</td><td>0.23</td><td>1.17e-13</td><td>5.7e-14</td><td>25.1</td><td>1.18e-10</td><td>1.09e-10</td><td>-6.9e-11</td><td>553.0</td></tr>\n",
       "<tr><td>...</td><td>...</td><td>...</td><td>...</td><td>...</td><td>...</td><td>...</td><td>...</td><td>...</td><td>...</td><td>...</td><td>...</td><td>...</td></tr>\n",
       "<tr><td>1BIGB J062626.2$-$171045</td><td>96.60917</td><td>-17.17944</td><td>0.7</td><td>2.05</td><td>0.19</td><td>2.35e-13</td><td>8.3e-14</td><td>35.7</td><td>2.2e-10</td><td>1.42e-10</td><td>-9.9e-11</td><td>198.0</td></tr>\n",
       "<tr><td>1BIGB J113755.6$-$171041$^{(a)}$$^{(b)}$</td><td>174.48167</td><td>-17.17833</td><td>0.6</td><td>1.69</td><td>0.1</td><td>1.8e-13</td><td>4.5e-14</td><td>90.7</td><td>2.48e-10</td><td>1.1e-10</td><td>-8.5e-11</td><td>187.5</td></tr>\n",
       "<tr><td>1BIGB J093430.1$-$172120</td><td>143.62542</td><td>-17.35583</td><td>0.2245</td><td>1.87</td><td>0.24</td><td>1.26e-13</td><td>7.3e-14</td><td>21.7</td><td>1.42e-10</td><td>1.56e-10</td><td>-9.4e-11</td><td>185.5</td></tr>\n",
       "<tr><td>1BIGB J220155.8$-$170700</td><td>330.4825</td><td>-17.11667</td><td>0.169</td><td>2.2</td><td>0.32</td><td>1.62e-13</td><td>8.5e-14</td><td>19.3</td><td>1.33e-10</td><td>1.42e-10</td><td>-8.3e-11</td><td>182.5</td></tr>\n",
       "<tr><td>1BIGB J113444.6$-$172900</td><td>173.68625</td><td>-17.48361</td><td>0.571</td><td>1.58</td><td>0.2</td><td>5.5e-14</td><td>3.3e-14</td><td>24.3</td><td>8.8e-11</td><td>1.04e-10</td><td>-6.1e-11</td><td>181.0</td></tr>\n",
       "<tr><td>1BIGB J151136.8$-$165326</td><td>227.90375</td><td>-16.89056</td><td>0.56</td><td>2.69</td><td>0.35</td><td>1.95e-13</td><td>6.5e-14</td><td>10.1</td><td>1.15e-10</td><td>7.8e-11</td><td>-5.1e-11</td><td>180.0</td></tr>\n",
       "<tr><td>1BIGB J161327.1$-$190835</td><td>243.36292</td><td>-19.14333</td><td>0.2245</td><td>2.23</td><td>0.16</td><td>4.11e-13</td><td>1e-13</td><td>34.3</td><td>3.31e-10</td><td>1.42e-10</td><td>-1.1e-10</td><td>119.0</td></tr>\n",
       "<tr><td>1BIGB J010250.8$-$200158</td><td>15.71208</td><td>-20.03278</td><td>0.38</td><td>1.55</td><td>0.22</td><td>3.4e-14</td><td>2.2e-14</td><td>17.3</td><td>5.7e-11</td><td>7.8e-11</td><td>-4.2e-11</td><td>111.0</td></tr>\n",
       "<tr><td>1BIGB J063014.9$-$201236</td><td>97.5625</td><td>-20.21</td><td>0.2245</td><td>1.84</td><td>0.27</td><td>1.13e-13</td><td>9.5e-14</td><td>14.9</td><td>1.32e-10</td><td>2.11e-10</td><td>-1.16e-10</td><td>99.0</td></tr>\n",
       "<tr><td>1BIGB J112611.8$-$203723</td><td>171.54958</td><td>-20.62333</td><td>0.2245</td><td>2.16</td><td>0.24</td><td>1.58e-13</td><td>7e-14</td><td>13.7</td><td>1.36e-10</td><td>1.11e-10</td><td>-7.3e-11</td><td>68.0</td></tr>\n",
       "</table>"
      ],
      "text/plain": [
       "<Table length=107>\n",
       "            1BIGB source name              ...  # of hours Zenith 5-50\n",
       "                  str42                    ...         float64        \n",
       "------------------------------------------ ... -----------------------\n",
       "          1BIGB J030544.1+403509           ...                   585.5\n",
       "          1BIGB J080135.8+463824           ...                   581.0\n",
       "          1BIGB J091651.8+523827           ...                   579.0\n",
       "          1BIGB J030103.7+344100           ...                   574.5\n",
       "          1BIGB J080015.4+561107           ...                   574.5\n",
       "          1BIGB J104857.6+500945           ...                   573.5\n",
       "          1BIGB J044240.6+614039$^{(a)}$   ...                   568.0\n",
       "          1BIGB J073329.5+351542           ...                   567.5\n",
       "          1BIGB J095507.9+355100           ...                   564.5\n",
       "          1BIGB J001527.8+353638           ...                   553.0\n",
       "                                       ... ...                     ...\n",
       "          1BIGB J062626.2$-$171045         ...                   198.0\n",
       " 1BIGB J113755.6$-$171041$^{(a)}$$^{(b)}$  ...                   187.5\n",
       "          1BIGB J093430.1$-$172120         ...                   185.5\n",
       "          1BIGB J220155.8$-$170700         ...                   182.5\n",
       "          1BIGB J113444.6$-$172900         ...                   181.0\n",
       "          1BIGB J151136.8$-$165326         ...                   180.0\n",
       "          1BIGB J161327.1$-$190835         ...                   119.0\n",
       "          1BIGB J010250.8$-$200158         ...                   111.0\n",
       "          1BIGB J063014.9$-$201236         ...                    99.0\n",
       "          1BIGB J112611.8$-$203723         ...                    68.0"
      ]
     },
     "execution_count": 60,
     "metadata": {},
     "output_type": "execute_result"
    }
   ],
   "source": [
    "t"
   ]
  },
  {
   "cell_type": "code",
   "execution_count": 70,
   "metadata": {},
   "outputs": [
    {
     "name": "stdout",
     "output_type": "stream",
     "text": [
      "            1BIGB source name              ...  # of hours Zenith 5-50\n",
      "------------------------------------------ ... -----------------------\n",
      "          1BIGB J030544.1+403509           ...                   585.5\n",
      "          1BIGB J080135.8+463824           ...                   581.0\n",
      "          1BIGB J091651.8+523827           ...                   579.0\n",
      "          1BIGB J030103.7+344100           ...                   574.5\n",
      "          1BIGB J080015.4+561107           ...                   574.5\n",
      "          1BIGB J104857.6+500945           ...                   573.5\n",
      "          1BIGB J044240.6+614039$^{(a)}$   ...                   568.0\n",
      "          1BIGB J073329.5+351542           ...                   567.5\n",
      "          1BIGB J095507.9+355100           ...                   564.5\n",
      "          1BIGB J001527.8+353638           ...                   553.0\n",
      "                                       ... ...                     ...\n",
      "          1BIGB J152646.6$-$153025         ...                   201.5\n",
      "          1BIGB J062626.2$-$171045         ...                   198.0\n",
      " 1BIGB J113755.6$-$171041$^{(a)}$$^{(b)}$  ...                   187.5\n",
      "          1BIGB J093430.1$-$172120         ...                   185.5\n",
      "          1BIGB J220155.8$-$170700         ...                   182.5\n",
      "          1BIGB J113444.6$-$172900         ...                   181.0\n",
      "          1BIGB J151136.8$-$165326         ...                   180.0\n",
      "          1BIGB J161327.1$-$190835         ...                   119.0\n",
      "          1BIGB J010250.8$-$200158         ...                   111.0\n",
      "          1BIGB J063014.9$-$201236         ...                    99.0\n",
      "          1BIGB J112611.8$-$203723         ...                    68.0\n",
      "Length = 107 rows\n"
     ]
    }
   ],
   "source": [
    "print t"
   ]
  },
  {
   "cell_type": "code",
   "execution_count": 71,
   "metadata": {},
   "outputs": [],
   "source": [
    "ascii.write(t, '1BIGB_table.dat')"
   ]
  },
  {
   "cell_type": "code",
   "execution_count": 74,
   "metadata": {},
   "outputs": [],
   "source": [
    "trial = Table.read('1BIGB_table.dat', format='ascii.basic')"
   ]
  },
  {
   "cell_type": "code",
   "execution_count": 75,
   "metadata": {},
   "outputs": [
    {
     "data": {
      "text/html": [
       "&lt;Table length=107&gt;\n",
       "<table id=\"table140330808068816\" class=\"table-striped table-bordered table-condensed\">\n",
       "<thead><tr><th>1BIGB source name</th><th>R.A. (deg)</th><th>Dec. (deg)</th><th>z</th><th>$\\Gamma$</th><th>$\\Gamma$_err</th><th>N0</th><th>N0_err</th><th>TS</th><th>Flux(1-100) GeV</th><th>Flux(+err)</th><th>Flux(-err)</th><th># of hours Zenith 5-50</th></tr></thead>\n",
       "<thead><tr><th>str40</th><th>float64</th><th>float64</th><th>float64</th><th>float64</th><th>float64</th><th>float64</th><th>float64</th><th>float64</th><th>float64</th><th>float64</th><th>float64</th><th>float64</th></tr></thead>\n",
       "<tr><td>1BIGB J030544.1+403509</td><td>46.43375</td><td>40.58611</td><td>0.2245</td><td>1.84</td><td>0.28</td><td>7.1e-14</td><td>5.3e-14</td><td>12.4</td><td>8.3e-11</td><td>1.23e-10</td><td>-6.7e-11</td><td>585.5</td></tr>\n",
       "<tr><td>1BIGB J080135.8+463824</td><td>120.39958</td><td>46.64</td><td>0.369</td><td>2.3</td><td>0.36</td><td>1.06e-13</td><td>5.2e-14</td><td>10.2</td><td>8.1e-11</td><td>8.6e-11</td><td>-4.9e-11</td><td>581.0</td></tr>\n",
       "<tr><td>1BIGB J091651.8+523827</td><td>139.21625</td><td>52.64111</td><td>0.19</td><td>1.79</td><td>0.15</td><td>1.04e-13</td><td>3.4e-14</td><td>54.9</td><td>1.26e-10</td><td>7.7e-11</td><td>-5.4e-11</td><td>579.0</td></tr>\n",
       "<tr><td>1BIGB J030103.7+344100</td><td>45.26542</td><td>34.68361</td><td>0.24</td><td>2.3</td><td>0.15</td><td>3.43e-13</td><td>6.9e-14</td><td>43.1</td><td>2.63e-10</td><td>9.5e-11</td><td>-7.5e-11</td><td>574.5</td></tr>\n",
       "<tr><td>1BIGB J080015.4+561107</td><td>120.06458</td><td>56.18528</td><td>0.2245</td><td>1.96</td><td>0.11</td><td>2.06e-13</td><td>4.2e-14</td><td>74.8</td><td>2.11e-10</td><td>7.7e-11</td><td>-6.1e-11</td><td>574.5</td></tr>\n",
       "<tr><td>1BIGB J104857.6+500945</td><td>162.24</td><td>50.1625</td><td>0.402</td><td>2.26</td><td>0.17</td><td>1.63e-13</td><td>4e-14</td><td>28.0</td><td>1.28e-10</td><td>5.7e-11</td><td>-4.3e-11</td><td>573.5</td></tr>\n",
       "<tr><td>1BIGB J044240.6+614039$^{(a)}$</td><td>70.66917</td><td>61.6775</td><td>0.2245</td><td>1.95</td><td>0.12</td><td>3.3e-13</td><td>9.2e-14</td><td>94.5</td><td>3.42e-10</td><td>1.59e-10</td><td>-1.24e-10</td><td>568.0</td></tr>\n",
       "<tr><td>1BIGB J073329.5+351542</td><td>113.37292</td><td>35.26167</td><td>0.177</td><td>2.59</td><td>0.3</td><td>1.49e-13</td><td>4.8e-14</td><td>11.7</td><td>9.3e-11</td><td>5.9e-11</td><td>-4e-11</td><td>567.5</td></tr>\n",
       "<tr><td>1BIGB J095507.9+355100</td><td>148.78292</td><td>35.85</td><td>0.834</td><td>1.88</td><td>0.25</td><td>7.3e-14</td><td>4e-14</td><td>20.0</td><td>8.2e-11</td><td>9e-11</td><td>-5.3e-11</td><td>564.5</td></tr>\n",
       "<tr><td>1BIGB J001527.8+353638</td><td>3.86625</td><td>35.61083</td><td>0.57</td><td>1.98</td><td>0.23</td><td>1.17e-13</td><td>5.7e-14</td><td>25.1</td><td>1.18e-10</td><td>1.09e-10</td><td>-6.9e-11</td><td>553.0</td></tr>\n",
       "<tr><td>...</td><td>...</td><td>...</td><td>...</td><td>...</td><td>...</td><td>...</td><td>...</td><td>...</td><td>...</td><td>...</td><td>...</td><td>...</td></tr>\n",
       "<tr><td>1BIGB J062626.2$-$171045</td><td>96.60917</td><td>-17.17944</td><td>0.7</td><td>2.05</td><td>0.19</td><td>2.35e-13</td><td>8.3e-14</td><td>35.7</td><td>2.2e-10</td><td>1.42e-10</td><td>-9.9e-11</td><td>198.0</td></tr>\n",
       "<tr><td>1BIGB J113755.6$-$171041$^{(a)}$$^{(b)}$</td><td>174.48167</td><td>-17.17833</td><td>0.6</td><td>1.69</td><td>0.1</td><td>1.8e-13</td><td>4.5e-14</td><td>90.7</td><td>2.48e-10</td><td>1.1e-10</td><td>-8.5e-11</td><td>187.5</td></tr>\n",
       "<tr><td>1BIGB J093430.1$-$172120</td><td>143.62542</td><td>-17.35583</td><td>0.2245</td><td>1.87</td><td>0.24</td><td>1.26e-13</td><td>7.3e-14</td><td>21.7</td><td>1.42e-10</td><td>1.56e-10</td><td>-9.4e-11</td><td>185.5</td></tr>\n",
       "<tr><td>1BIGB J220155.8$-$170700</td><td>330.4825</td><td>-17.11667</td><td>0.169</td><td>2.2</td><td>0.32</td><td>1.62e-13</td><td>8.5e-14</td><td>19.3</td><td>1.33e-10</td><td>1.42e-10</td><td>-8.3e-11</td><td>182.5</td></tr>\n",
       "<tr><td>1BIGB J113444.6$-$172900</td><td>173.68625</td><td>-17.48361</td><td>0.571</td><td>1.58</td><td>0.2</td><td>5.5e-14</td><td>3.3e-14</td><td>24.3</td><td>8.8e-11</td><td>1.04e-10</td><td>-6.1e-11</td><td>181.0</td></tr>\n",
       "<tr><td>1BIGB J151136.8$-$165326</td><td>227.90375</td><td>-16.89056</td><td>0.56</td><td>2.69</td><td>0.35</td><td>1.95e-13</td><td>6.5e-14</td><td>10.1</td><td>1.15e-10</td><td>7.8e-11</td><td>-5.1e-11</td><td>180.0</td></tr>\n",
       "<tr><td>1BIGB J161327.1$-$190835</td><td>243.36292</td><td>-19.14333</td><td>0.2245</td><td>2.23</td><td>0.16</td><td>4.11e-13</td><td>1e-13</td><td>34.3</td><td>3.31e-10</td><td>1.42e-10</td><td>-1.1e-10</td><td>119.0</td></tr>\n",
       "<tr><td>1BIGB J010250.8$-$200158</td><td>15.71208</td><td>-20.03278</td><td>0.38</td><td>1.55</td><td>0.22</td><td>3.4e-14</td><td>2.2e-14</td><td>17.3</td><td>5.7e-11</td><td>7.8e-11</td><td>-4.2e-11</td><td>111.0</td></tr>\n",
       "<tr><td>1BIGB J063014.9$-$201236</td><td>97.5625</td><td>-20.21</td><td>0.2245</td><td>1.84</td><td>0.27</td><td>1.13e-13</td><td>9.5e-14</td><td>14.9</td><td>1.32e-10</td><td>2.11e-10</td><td>-1.16e-10</td><td>99.0</td></tr>\n",
       "<tr><td>1BIGB J112611.8$-$203723</td><td>171.54958</td><td>-20.62333</td><td>0.2245</td><td>2.16</td><td>0.24</td><td>1.58e-13</td><td>7e-14</td><td>13.7</td><td>1.36e-10</td><td>1.11e-10</td><td>-7.3e-11</td><td>68.0</td></tr>\n",
       "</table>"
      ],
      "text/plain": [
       "<Table length=107>\n",
       "           1BIGB source name             R.A. (deg) ... # of hours Zenith 5-50\n",
       "                 str40                    float64   ...        float64        \n",
       "---------------------------------------- ---------- ... ----------------------\n",
       "                  1BIGB J030544.1+403509   46.43375 ...                  585.5\n",
       "                  1BIGB J080135.8+463824  120.39958 ...                  581.0\n",
       "                  1BIGB J091651.8+523827  139.21625 ...                  579.0\n",
       "                  1BIGB J030103.7+344100   45.26542 ...                  574.5\n",
       "                  1BIGB J080015.4+561107  120.06458 ...                  574.5\n",
       "                  1BIGB J104857.6+500945     162.24 ...                  573.5\n",
       "          1BIGB J044240.6+614039$^{(a)}$   70.66917 ...                  568.0\n",
       "                  1BIGB J073329.5+351542  113.37292 ...                  567.5\n",
       "                  1BIGB J095507.9+355100  148.78292 ...                  564.5\n",
       "                  1BIGB J001527.8+353638    3.86625 ...                  553.0\n",
       "                                     ...        ... ...                    ...\n",
       "                1BIGB J062626.2$-$171045   96.60917 ...                  198.0\n",
       "1BIGB J113755.6$-$171041$^{(a)}$$^{(b)}$  174.48167 ...                  187.5\n",
       "                1BIGB J093430.1$-$172120  143.62542 ...                  185.5\n",
       "                1BIGB J220155.8$-$170700   330.4825 ...                  182.5\n",
       "                1BIGB J113444.6$-$172900  173.68625 ...                  181.0\n",
       "                1BIGB J151136.8$-$165326  227.90375 ...                  180.0\n",
       "                1BIGB J161327.1$-$190835  243.36292 ...                  119.0\n",
       "                1BIGB J010250.8$-$200158   15.71208 ...                  111.0\n",
       "                1BIGB J063014.9$-$201236    97.5625 ...                   99.0\n",
       "                1BIGB J112611.8$-$203723  171.54958 ...                   68.0"
      ]
     },
     "execution_count": 75,
     "metadata": {},
     "output_type": "execute_result"
    }
   ],
   "source": [
    "trial"
   ]
  }
 ],
 "metadata": {
  "kernelspec": {
   "display_name": "Python 2",
   "language": "python",
   "name": "python2"
  },
  "language_info": {
   "codemirror_mode": {
    "name": "ipython",
    "version": 2
   },
   "file_extension": ".py",
   "mimetype": "text/x-python",
   "name": "python",
   "nbconvert_exporter": "python",
   "pygments_lexer": "ipython2",
   "version": "2.7.13"
  }
 },
 "nbformat": 4,
 "nbformat_minor": 2
}
